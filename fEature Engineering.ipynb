{
 "cells": [
  {
   "cell_type": "code",
   "execution_count": 1,
   "id": "2ee58120",
   "metadata": {},
   "outputs": [],
   "source": [
    "import pandas as pd\n",
    "import numpy as np\n",
    "import seaborn as sns\n",
    "import matplotlib.pyplot as plt\n",
    "from sklearn.tree import DecisionTreeClassifier\n",
    "from sklearn.ensemble import BaggingClassifier,GradientBoostingClassifier,RandomForestClassifier\n",
    "from sklearn.linear_model import LogisticRegression\n",
    "from sklearn.naive_bayes import GaussianNB,BernoulliNB,MultinomialNB\n",
    "from sklearn.svm import SVC\n",
    "from sklearn import metrics\n",
    "from sklearn.metrics import confusion_matrix,accuracy_score,roc_auc_score,classification_report\n",
    "from sklearn.metrics import SCORERS\n",
    "import lightgbm as lgb\n",
    "from warnings import filterwarnings\n",
    "filterwarnings('ignore')"
   ]
  },
  {
   "cell_type": "code",
   "execution_count": 2,
   "id": "e585ee62",
   "metadata": {},
   "outputs": [
    {
     "data": {
      "text/html": [
       "<div>\n",
       "<style scoped>\n",
       "    .dataframe tbody tr th:only-of-type {\n",
       "        vertical-align: middle;\n",
       "    }\n",
       "\n",
       "    .dataframe tbody tr th {\n",
       "        vertical-align: top;\n",
       "    }\n",
       "\n",
       "    .dataframe thead th {\n",
       "        text-align: right;\n",
       "    }\n",
       "</style>\n",
       "<table border=\"1\" class=\"dataframe\">\n",
       "  <thead>\n",
       "    <tr style=\"text-align: right;\">\n",
       "      <th></th>\n",
       "      <th>hotel</th>\n",
       "      <th>is_canceled</th>\n",
       "      <th>lead_time</th>\n",
       "      <th>arrival_date_year</th>\n",
       "      <th>arrival_date_month</th>\n",
       "      <th>arrival_date_week_number</th>\n",
       "      <th>arrival_date_day_of_month</th>\n",
       "      <th>stays_in_weekend_nights</th>\n",
       "      <th>stays_in_week_nights</th>\n",
       "      <th>adults</th>\n",
       "      <th>...</th>\n",
       "      <th>deposit_type</th>\n",
       "      <th>agent</th>\n",
       "      <th>company</th>\n",
       "      <th>days_in_waiting_list</th>\n",
       "      <th>customer_type</th>\n",
       "      <th>adr</th>\n",
       "      <th>required_car_parking_spaces</th>\n",
       "      <th>total_of_special_requests</th>\n",
       "      <th>reservation_status</th>\n",
       "      <th>reservation_status_date</th>\n",
       "    </tr>\n",
       "  </thead>\n",
       "  <tbody>\n",
       "    <tr>\n",
       "      <th>0</th>\n",
       "      <td>Resort Hotel</td>\n",
       "      <td>0</td>\n",
       "      <td>342</td>\n",
       "      <td>2015</td>\n",
       "      <td>July</td>\n",
       "      <td>27</td>\n",
       "      <td>1</td>\n",
       "      <td>0</td>\n",
       "      <td>0</td>\n",
       "      <td>2</td>\n",
       "      <td>...</td>\n",
       "      <td>No Deposit</td>\n",
       "      <td>NaN</td>\n",
       "      <td>NaN</td>\n",
       "      <td>0</td>\n",
       "      <td>Transient</td>\n",
       "      <td>0.0</td>\n",
       "      <td>0</td>\n",
       "      <td>0</td>\n",
       "      <td>Check-Out</td>\n",
       "      <td>2015-07-01</td>\n",
       "    </tr>\n",
       "    <tr>\n",
       "      <th>1</th>\n",
       "      <td>Resort Hotel</td>\n",
       "      <td>0</td>\n",
       "      <td>737</td>\n",
       "      <td>2015</td>\n",
       "      <td>July</td>\n",
       "      <td>27</td>\n",
       "      <td>1</td>\n",
       "      <td>0</td>\n",
       "      <td>0</td>\n",
       "      <td>2</td>\n",
       "      <td>...</td>\n",
       "      <td>No Deposit</td>\n",
       "      <td>NaN</td>\n",
       "      <td>NaN</td>\n",
       "      <td>0</td>\n",
       "      <td>Transient</td>\n",
       "      <td>0.0</td>\n",
       "      <td>0</td>\n",
       "      <td>0</td>\n",
       "      <td>Check-Out</td>\n",
       "      <td>2015-07-01</td>\n",
       "    </tr>\n",
       "    <tr>\n",
       "      <th>2</th>\n",
       "      <td>Resort Hotel</td>\n",
       "      <td>0</td>\n",
       "      <td>7</td>\n",
       "      <td>2015</td>\n",
       "      <td>July</td>\n",
       "      <td>27</td>\n",
       "      <td>1</td>\n",
       "      <td>0</td>\n",
       "      <td>1</td>\n",
       "      <td>1</td>\n",
       "      <td>...</td>\n",
       "      <td>No Deposit</td>\n",
       "      <td>NaN</td>\n",
       "      <td>NaN</td>\n",
       "      <td>0</td>\n",
       "      <td>Transient</td>\n",
       "      <td>75.0</td>\n",
       "      <td>0</td>\n",
       "      <td>0</td>\n",
       "      <td>Check-Out</td>\n",
       "      <td>2015-07-02</td>\n",
       "    </tr>\n",
       "    <tr>\n",
       "      <th>3</th>\n",
       "      <td>Resort Hotel</td>\n",
       "      <td>0</td>\n",
       "      <td>13</td>\n",
       "      <td>2015</td>\n",
       "      <td>July</td>\n",
       "      <td>27</td>\n",
       "      <td>1</td>\n",
       "      <td>0</td>\n",
       "      <td>1</td>\n",
       "      <td>1</td>\n",
       "      <td>...</td>\n",
       "      <td>No Deposit</td>\n",
       "      <td>304.0</td>\n",
       "      <td>NaN</td>\n",
       "      <td>0</td>\n",
       "      <td>Transient</td>\n",
       "      <td>75.0</td>\n",
       "      <td>0</td>\n",
       "      <td>0</td>\n",
       "      <td>Check-Out</td>\n",
       "      <td>2015-07-02</td>\n",
       "    </tr>\n",
       "    <tr>\n",
       "      <th>4</th>\n",
       "      <td>Resort Hotel</td>\n",
       "      <td>0</td>\n",
       "      <td>14</td>\n",
       "      <td>2015</td>\n",
       "      <td>July</td>\n",
       "      <td>27</td>\n",
       "      <td>1</td>\n",
       "      <td>0</td>\n",
       "      <td>2</td>\n",
       "      <td>2</td>\n",
       "      <td>...</td>\n",
       "      <td>No Deposit</td>\n",
       "      <td>240.0</td>\n",
       "      <td>NaN</td>\n",
       "      <td>0</td>\n",
       "      <td>Transient</td>\n",
       "      <td>98.0</td>\n",
       "      <td>0</td>\n",
       "      <td>1</td>\n",
       "      <td>Check-Out</td>\n",
       "      <td>2015-07-03</td>\n",
       "    </tr>\n",
       "  </tbody>\n",
       "</table>\n",
       "<p>5 rows × 32 columns</p>\n",
       "</div>"
      ],
      "text/plain": [
       "          hotel  is_canceled  lead_time  arrival_date_year arrival_date_month  \\\n",
       "0  Resort Hotel            0        342               2015               July   \n",
       "1  Resort Hotel            0        737               2015               July   \n",
       "2  Resort Hotel            0          7               2015               July   \n",
       "3  Resort Hotel            0         13               2015               July   \n",
       "4  Resort Hotel            0         14               2015               July   \n",
       "\n",
       "   arrival_date_week_number  arrival_date_day_of_month  \\\n",
       "0                        27                          1   \n",
       "1                        27                          1   \n",
       "2                        27                          1   \n",
       "3                        27                          1   \n",
       "4                        27                          1   \n",
       "\n",
       "   stays_in_weekend_nights  stays_in_week_nights  adults  ...  deposit_type  \\\n",
       "0                        0                     0       2  ...    No Deposit   \n",
       "1                        0                     0       2  ...    No Deposit   \n",
       "2                        0                     1       1  ...    No Deposit   \n",
       "3                        0                     1       1  ...    No Deposit   \n",
       "4                        0                     2       2  ...    No Deposit   \n",
       "\n",
       "   agent company days_in_waiting_list customer_type   adr  \\\n",
       "0    NaN     NaN                    0     Transient   0.0   \n",
       "1    NaN     NaN                    0     Transient   0.0   \n",
       "2    NaN     NaN                    0     Transient  75.0   \n",
       "3  304.0     NaN                    0     Transient  75.0   \n",
       "4  240.0     NaN                    0     Transient  98.0   \n",
       "\n",
       "   required_car_parking_spaces  total_of_special_requests  reservation_status  \\\n",
       "0                            0                          0           Check-Out   \n",
       "1                            0                          0           Check-Out   \n",
       "2                            0                          0           Check-Out   \n",
       "3                            0                          0           Check-Out   \n",
       "4                            0                          1           Check-Out   \n",
       "\n",
       "  reservation_status_date  \n",
       "0              2015-07-01  \n",
       "1              2015-07-01  \n",
       "2              2015-07-02  \n",
       "3              2015-07-02  \n",
       "4              2015-07-03  \n",
       "\n",
       "[5 rows x 32 columns]"
      ]
     },
     "execution_count": 2,
     "metadata": {},
     "output_type": "execute_result"
    }
   ],
   "source": [
    "df=pd.read_csv(\"hotel_bookings.csv\")\n",
    "df.head()"
   ]
  },
  {
   "cell_type": "code",
   "execution_count": 3,
   "id": "dd6375b4",
   "metadata": {},
   "outputs": [],
   "source": [
    "#Null value Treatment\n",
    "df.drop('company',axis=\"columns\",inplace=True) #94% Null value we cant use these column or \n",
    "#otherwise we will ask more data to the client at these situation.\n",
    "df['children']=df['children'].fillna(0) \n",
    "df['country']=df['country'].fillna(\"Unknown\")\n",
    "df['agent']=df['agent'].fillna(0)"
   ]
  },
  {
   "cell_type": "code",
   "execution_count": 4,
   "id": "a44e97c3",
   "metadata": {},
   "outputs": [],
   "source": [
    "filter = (df.children == 0) & (df.adults == 0) & (df.babies == 0)\n",
    "df = df[~filter]\n",
    "df.drop(columns=['reservation_status'], axis=1, inplace=True)\n",
    "df.dropna(subset=['country', 'children'], axis=0, inplace=True)\n",
    "df.drop(df[df['adr'] < 0].index, inplace=True, axis=0)"
   ]
  },
  {
   "cell_type": "code",
   "execution_count": 5,
   "id": "d3094822",
   "metadata": {},
   "outputs": [
    {
     "data": {
      "text/plain": [
       "TA/TO        97750\n",
       "Direct       14610\n",
       "Corporate     6651\n",
       "GDS            193\n",
       "Undefined        5\n",
       "Name: distribution_channel, dtype: int64"
      ]
     },
     "execution_count": 5,
     "metadata": {},
     "output_type": "execute_result"
    }
   ],
   "source": [
    "df['distribution_channel'].value_counts()"
   ]
  },
  {
   "cell_type": "markdown",
   "id": "fff3b40c",
   "metadata": {},
   "source": [
    "Contract - when the booking has an allotment or other type of contract associated to it;\n",
    "\n",
    "Group – when the booking is associated to a group;\n",
    "\n",
    "Transient – when the booking is not part of a group or contract, and is not associated to other transient booking;\n",
    "\n",
    "Transient-party – when the booking is transient, but is associated to at least other transient booking"
   ]
  },
  {
   "cell_type": "code",
   "execution_count": 6,
   "id": "141c29a0",
   "metadata": {},
   "outputs": [],
   "source": [
    "df[df['distribution_channel'] == 'Undefined']\n",
    "df.drop(df[df['distribution_channel'] == 'Undefined'].index, inplace=True, axis=0)"
   ]
  },
  {
   "cell_type": "code",
   "execution_count": 7,
   "id": "91f2878f",
   "metadata": {},
   "outputs": [],
   "source": [
    "#Removing Duplicates\n",
    "df=df.drop(df[df.duplicated()].index,axis=0)"
   ]
  },
  {
   "cell_type": "markdown",
   "id": "12f56473",
   "metadata": {},
   "source": [
    "Changing Data Types"
   ]
  },
  {
   "cell_type": "code",
   "execution_count": 8,
   "id": "c22287e7",
   "metadata": {},
   "outputs": [],
   "source": [
    "categorical=df[['agent','arrival_date_month','arrival_date_year',\n",
    "                'assigned_room_type','country','customer_type',\n",
    "                'deposit_type','distribution_channel','is_repeated_guest','market_segment',\n",
    "                'meal','reserved_room_type']]\n",
    "numerical=df[['adr','adults','arrival_date_day_of_month','arrival_date_week_number',\n",
    "              'arrival_date_year','babies','booking_changes'\n",
    "             ,'children','days_in_waiting_list','lead_time',\n",
    "              'previous_bookings_not_canceled','previous_cancellations','required_car_parking_spaces','stays_in_weekend_nights',\n",
    "              'stays_in_week_nights','total_of_special_requests']]\n",
    "date=df['reservation_status_date']\n",
    "\n",
    "for i in categorical.columns:\n",
    "    df[i]=df[i].astype('object')\n",
    "for i in numerical.columns:\n",
    "    df[i]=df[i].astype(np.number)\n",
    "df['reservation_status_date']=pd.to_datetime(df['reservation_status_date'])\n",
    "df['arrival_date_year']=df['arrival_date_year'].astype('object')\n"
   ]
  },
  {
   "cell_type": "markdown",
   "id": "6e65b56c",
   "metadata": {},
   "source": [
    "# Stats"
   ]
  },
  {
   "cell_type": "code",
   "execution_count": 9,
   "id": "9e52bec2",
   "metadata": {},
   "outputs": [
    {
     "data": {
      "text/html": [
       "<div>\n",
       "<style scoped>\n",
       "    .dataframe tbody tr th:only-of-type {\n",
       "        vertical-align: middle;\n",
       "    }\n",
       "\n",
       "    .dataframe tbody tr th {\n",
       "        vertical-align: top;\n",
       "    }\n",
       "\n",
       "    .dataframe thead th {\n",
       "        text-align: right;\n",
       "    }\n",
       "</style>\n",
       "<table border=\"1\" class=\"dataframe\">\n",
       "  <thead>\n",
       "    <tr style=\"text-align: right;\">\n",
       "      <th></th>\n",
       "      <th>columns</th>\n",
       "      <th>pvalue</th>\n",
       "    </tr>\n",
       "  </thead>\n",
       "  <tbody>\n",
       "    <tr>\n",
       "      <th>0</th>\n",
       "      <td>hotel</td>\n",
       "      <td>1.581381e-100</td>\n",
       "    </tr>\n",
       "    <tr>\n",
       "      <th>1</th>\n",
       "      <td>arrival_date_year</td>\n",
       "      <td>3.583225e-148</td>\n",
       "    </tr>\n",
       "    <tr>\n",
       "      <th>2</th>\n",
       "      <td>arrival_date_month</td>\n",
       "      <td>2.280554e-129</td>\n",
       "    </tr>\n",
       "    <tr>\n",
       "      <th>3</th>\n",
       "      <td>meal</td>\n",
       "      <td>2.880279e-77</td>\n",
       "    </tr>\n",
       "    <tr>\n",
       "      <th>4</th>\n",
       "      <td>country</td>\n",
       "      <td>0.000000e+00</td>\n",
       "    </tr>\n",
       "    <tr>\n",
       "      <th>5</th>\n",
       "      <td>market_segment</td>\n",
       "      <td>0.000000e+00</td>\n",
       "    </tr>\n",
       "    <tr>\n",
       "      <th>6</th>\n",
       "      <td>distribution_channel</td>\n",
       "      <td>0.000000e+00</td>\n",
       "    </tr>\n",
       "    <tr>\n",
       "      <th>7</th>\n",
       "      <td>is_repeated_guest</td>\n",
       "      <td>3.710820e-151</td>\n",
       "    </tr>\n",
       "    <tr>\n",
       "      <th>8</th>\n",
       "      <td>reserved_room_type</td>\n",
       "      <td>2.045211e-55</td>\n",
       "    </tr>\n",
       "    <tr>\n",
       "      <th>9</th>\n",
       "      <td>assigned_room_type</td>\n",
       "      <td>1.100583e-151</td>\n",
       "    </tr>\n",
       "    <tr>\n",
       "      <th>10</th>\n",
       "      <td>deposit_type</td>\n",
       "      <td>0.000000e+00</td>\n",
       "    </tr>\n",
       "    <tr>\n",
       "      <th>11</th>\n",
       "      <td>agent</td>\n",
       "      <td>0.000000e+00</td>\n",
       "    </tr>\n",
       "    <tr>\n",
       "      <th>12</th>\n",
       "      <td>customer_type</td>\n",
       "      <td>5.108601e-307</td>\n",
       "    </tr>\n",
       "  </tbody>\n",
       "</table>\n",
       "</div>"
      ],
      "text/plain": [
       "                 columns         pvalue\n",
       "0                  hotel  1.581381e-100\n",
       "1      arrival_date_year  3.583225e-148\n",
       "2     arrival_date_month  2.280554e-129\n",
       "3                   meal   2.880279e-77\n",
       "4                country   0.000000e+00\n",
       "5         market_segment   0.000000e+00\n",
       "6   distribution_channel   0.000000e+00\n",
       "7      is_repeated_guest  3.710820e-151\n",
       "8     reserved_room_type   2.045211e-55\n",
       "9     assigned_room_type  1.100583e-151\n",
       "10          deposit_type   0.000000e+00\n",
       "11                 agent   0.000000e+00\n",
       "12         customer_type  5.108601e-307"
      ]
     },
     "execution_count": 9,
     "metadata": {},
     "output_type": "execute_result"
    }
   ],
   "source": [
    "#Statistical test for categorical\n",
    "\n",
    "from scipy import stats as st\n",
    "pvalue=[]\n",
    "for i in df.select_dtypes('object').columns:\n",
    "    x=pd.crosstab(df[i],df['is_canceled'])\n",
    "    stats,pv,dof,expected_value=st.chi2_contingency(x)\n",
    "    pvalue.append(pv)\n",
    "    \n",
    "p=pd.DataFrame()\n",
    "p['columns']=df.select_dtypes('object').columns\n",
    "p['pvalue']=pvalue\n",
    "p"
   ]
  },
  {
   "cell_type": "code",
   "execution_count": 10,
   "id": "edc5be6e",
   "metadata": {},
   "outputs": [
    {
     "data": {
      "text/html": [
       "<div>\n",
       "<style scoped>\n",
       "    .dataframe tbody tr th:only-of-type {\n",
       "        vertical-align: middle;\n",
       "    }\n",
       "\n",
       "    .dataframe tbody tr th {\n",
       "        vertical-align: top;\n",
       "    }\n",
       "\n",
       "    .dataframe thead th {\n",
       "        text-align: right;\n",
       "    }\n",
       "</style>\n",
       "<table border=\"1\" class=\"dataframe\">\n",
       "  <thead>\n",
       "    <tr style=\"text-align: right;\">\n",
       "      <th></th>\n",
       "      <th>Columns</th>\n",
       "      <th>Pvalues</th>\n",
       "    </tr>\n",
       "  </thead>\n",
       "  <tbody>\n",
       "    <tr>\n",
       "      <th>0</th>\n",
       "      <td>adr</td>\n",
       "      <td>0.00</td>\n",
       "    </tr>\n",
       "    <tr>\n",
       "      <th>1</th>\n",
       "      <td>adults</td>\n",
       "      <td>0.00</td>\n",
       "    </tr>\n",
       "    <tr>\n",
       "      <th>2</th>\n",
       "      <td>arrival_date_day_of_month</td>\n",
       "      <td>0.11</td>\n",
       "    </tr>\n",
       "    <tr>\n",
       "      <th>3</th>\n",
       "      <td>arrival_date_week_number</td>\n",
       "      <td>0.62</td>\n",
       "    </tr>\n",
       "    <tr>\n",
       "      <th>4</th>\n",
       "      <td>arrival_date_year</td>\n",
       "      <td>0.00</td>\n",
       "    </tr>\n",
       "    <tr>\n",
       "      <th>5</th>\n",
       "      <td>babies</td>\n",
       "      <td>0.00</td>\n",
       "    </tr>\n",
       "    <tr>\n",
       "      <th>6</th>\n",
       "      <td>booking_changes</td>\n",
       "      <td>0.00</td>\n",
       "    </tr>\n",
       "    <tr>\n",
       "      <th>7</th>\n",
       "      <td>children</td>\n",
       "      <td>0.00</td>\n",
       "    </tr>\n",
       "    <tr>\n",
       "      <th>8</th>\n",
       "      <td>days_in_waiting_list</td>\n",
       "      <td>0.16</td>\n",
       "    </tr>\n",
       "    <tr>\n",
       "      <th>9</th>\n",
       "      <td>lead_time</td>\n",
       "      <td>0.00</td>\n",
       "    </tr>\n",
       "    <tr>\n",
       "      <th>10</th>\n",
       "      <td>previous_bookings_not_canceled</td>\n",
       "      <td>0.00</td>\n",
       "    </tr>\n",
       "    <tr>\n",
       "      <th>11</th>\n",
       "      <td>previous_cancellations</td>\n",
       "      <td>0.00</td>\n",
       "    </tr>\n",
       "    <tr>\n",
       "      <th>12</th>\n",
       "      <td>required_car_parking_spaces</td>\n",
       "      <td>0.00</td>\n",
       "    </tr>\n",
       "    <tr>\n",
       "      <th>13</th>\n",
       "      <td>stays_in_weekend_nights</td>\n",
       "      <td>0.00</td>\n",
       "    </tr>\n",
       "    <tr>\n",
       "      <th>14</th>\n",
       "      <td>stays_in_week_nights</td>\n",
       "      <td>0.00</td>\n",
       "    </tr>\n",
       "    <tr>\n",
       "      <th>15</th>\n",
       "      <td>total_of_special_requests</td>\n",
       "      <td>0.00</td>\n",
       "    </tr>\n",
       "  </tbody>\n",
       "</table>\n",
       "</div>"
      ],
      "text/plain": [
       "                           Columns  Pvalues\n",
       "0                              adr     0.00\n",
       "1                           adults     0.00\n",
       "2        arrival_date_day_of_month     0.11\n",
       "3         arrival_date_week_number     0.62\n",
       "4                arrival_date_year     0.00\n",
       "5                           babies     0.00\n",
       "6                  booking_changes     0.00\n",
       "7                         children     0.00\n",
       "8             days_in_waiting_list     0.16\n",
       "9                        lead_time     0.00\n",
       "10  previous_bookings_not_canceled     0.00\n",
       "11          previous_cancellations     0.00\n",
       "12     required_car_parking_spaces     0.00\n",
       "13         stays_in_weekend_nights     0.00\n",
       "14            stays_in_week_nights     0.00\n",
       "15       total_of_special_requests     0.00"
      ]
     },
     "execution_count": 10,
     "metadata": {},
     "output_type": "execute_result"
    }
   ],
   "source": [
    "#Anova test\n",
    "from sklearn.feature_selection import SelectKBest,f_classif,chi2\n",
    "anova=SelectKBest(score_func=f_classif)\n",
    "anova.fit(numerical,df['is_canceled'])\n",
    "\n",
    "pv1=pd.DataFrame()\n",
    "pv1['Columns']=numerical.columns\n",
    "pv1['Pvalues']=round(pd.Series(anova.pvalues_),2)\n",
    "pv1"
   ]
  },
  {
   "cell_type": "raw",
   "id": "e78adf19",
   "metadata": {},
   "source": [
    "In categorical Numerical test we can see  \n",
    "1) Arrival date day of Month\n",
    "2) day in waiting list\n",
    "3) arrival date week Number \n",
    "#Are not Significant to our Target Variable"
   ]
  },
  {
   "cell_type": "code",
   "execution_count": 11,
   "id": "365c8fb4",
   "metadata": {},
   "outputs": [],
   "source": [
    "df1=df.copy()\n",
    "df1.drop(['arrival_date_week_number','days_in_waiting_list','reservation_status_date'],axis='columns',inplace=True)"
   ]
  },
  {
   "cell_type": "markdown",
   "id": "09211158",
   "metadata": {},
   "source": [
    "# Encoding"
   ]
  },
  {
   "cell_type": "code",
   "execution_count": 12,
   "id": "8414095e",
   "metadata": {},
   "outputs": [
    {
     "name": "stdout",
     "output_type": "stream",
     "text": [
      "hotel 2\n",
      "arrival_date_year 3\n",
      "arrival_date_month 12\n",
      "meal 5\n",
      "country 178\n",
      "market_segment 7\n",
      "distribution_channel 4\n",
      "is_repeated_guest 2\n",
      "reserved_room_type 9\n",
      "assigned_room_type 11\n",
      "deposit_type 3\n",
      "agent 334\n",
      "customer_type 4\n"
     ]
    }
   ],
   "source": [
    "for i in df1.select_dtypes('object'):\n",
    "    print(i,df1[i].nunique())"
   ]
  },
  {
   "cell_type": "raw",
   "id": "ef4a9018",
   "metadata": {},
   "source": [
    "#For Hotel column\n",
    "#for Is repeated Guest column"
   ]
  },
  {
   "cell_type": "code",
   "execution_count": 13,
   "id": "2e6e247f",
   "metadata": {},
   "outputs": [],
   "source": [
    "df1['hotel']=pd.get_dummies(df1['hotel'],drop_first=True)\n",
    "df1['is_repeated_guest']=pd.get_dummies(df['is_repeated_guest'],drop_first=True)"
   ]
  },
  {
   "cell_type": "raw",
   "id": "d1ba31f6",
   "metadata": {},
   "source": [
    "#For arrival date\n",
    "#for arrival week\n",
    "#for arrival year"
   ]
  },
  {
   "cell_type": "code",
   "execution_count": 14,
   "id": "45964832",
   "metadata": {},
   "outputs": [],
   "source": [
    "df1['arrival_date_year']=list(map(lambda x:int(x),df1['arrival_date_year']))\n",
    "df1['arrival_date_day_of_month']=list(map(lambda x:int(x),df1['arrival_date_day_of_month']))\n",
    "df1['arrival_date_month'].replace({'January':1,'February':2,'March':3,'April':4,'May':5,'June':6,'July':7,\n",
    "                                      'August':8,'September':9,'October':10,'November':11,'December':12},inplace=True)\n",
    "col=['arrival_date_year','arrival_date_day_of_month','arrival_date_month']\n",
    "df1['Date_of_arrival']=df1[col].apply(lambda x:'-'.join (x.values.astype(str)),axis='columns')\n",
    "df2=df1.drop([\"arrival_date_year\",'arrival_date_day_of_month','arrival_date_month'],axis='columns')"
   ]
  },
  {
   "cell_type": "code",
   "execution_count": 15,
   "id": "a4d5154b",
   "metadata": {},
   "outputs": [
    {
     "data": {
      "text/plain": [
       "0    2.158697e-220\n",
       "dtype: float64"
      ]
     },
     "execution_count": 15,
     "metadata": {},
     "output_type": "execute_result"
    }
   ],
   "source": [
    "#Date of arrival \n",
    "#Checking Significance\n",
    "df=df2.drop('Date_of_arrival',axis='columns')\n",
    "observed_value=pd.crosstab(df2['Date_of_arrival'],df2['is_canceled'])\n",
    "stats,pvalue,dof,expected_value=st.chi2_contingency(observed_value)\n",
    "pd.Series(pvalue)\n",
    "\n"
   ]
  },
  {
   "cell_type": "code",
   "execution_count": 16,
   "id": "3be07960",
   "metadata": {},
   "outputs": [
    {
     "name": "stdout",
     "output_type": "stream",
     "text": [
      "meal 5\n",
      "country 178\n",
      "market_segment 7\n",
      "distribution_channel 4\n",
      "reserved_room_type 9\n",
      "assigned_room_type 11\n",
      "deposit_type 3\n",
      "agent 334\n",
      "customer_type 4\n",
      "Date_of_arrival 793\n"
     ]
    }
   ],
   "source": [
    "for i in df1.select_dtypes('object'):\n",
    "    print(i,df1[i].nunique())"
   ]
  },
  {
   "cell_type": "raw",
   "id": "d79b6d7b",
   "metadata": {},
   "source": [
    "#For country\n",
    "Iam companing categories of the Basis of Every Region exp:- Europe, Asia,Australia"
   ]
  },
  {
   "cell_type": "code",
   "execution_count": 17,
   "id": "fed7b026",
   "metadata": {},
   "outputs": [],
   "source": [
    "#country column\n",
    "Antartica=['ATA','BVT','ATF','HMD','SGS']\n",
    "Aus=['ASM','AUS','COK','FJI','PYF','GUM','KIR','MHL','FSM','NRU','NCL','NZL','NIU','NFK','MNP','PLW','PNG','PCN','WSM','SLB',\n",
    "     'TKL','TON','TUV','UMI','VUT','WLF']\n",
    "Asia=['AFG','AZE','BHR','BGD','BTN','CN','IOT','BRN','KHM','CHN','CXR','CCK','CYP','GEO','HKG','IND','IDN','IRN','IRQ','ISR','JPN',\n",
    "      'JOR','KAZ','PRK','KOR','KWT','KGZ','LAO','LBN','MAC','MYS',\n",
    "      'MDV','MNG','MMR','NPL','OMN','PAK','PSE','PHL','QAT','SAU','SGP','TMP','LKA','SYR','TWN','TJK','THA','TLS','TUR','TKM','ARE',\n",
    "       'UZB','VNM','YEM']\n",
    "Europe=['ALA','ALB','AND','ARM','AUT','BLR','BEL','BIH','BGR','HRV','CZE','DNK','EST','FRO','FIN','FRA','DEU','GIB','GRC','GGY',\n",
    "        'VAT','HUN','ISL','IRL','IMN','ITA','JEY','LVA','LIE','LTU','LUX','MKD','MLT','MDA','MCO','MNE','NLD','NOR','POL','PRT',\n",
    "         'ROU','RUS','SMR','SRB','SVK','SVN','ESP','SJM','SWE','CHE','UKR','GBR']\n",
    "NA=['AIA','ABW','BHS','BRB','BES','CAN','CRI','CUB','CUW','CYM','DMA','DOM','SLV','GRL','GRD','GLP','GTM','HTI','HND','JAM','MTQ','MEX','MSR','ANT',\n",
    "    'NIC','PAN','PRI','BLM','KNA','LCA','MAF','SPM','VCT','VGB','SXM','TTO','TCA','UMI','USA','VIR']\n",
    "SA=['ARG','BOL','BRA','CHL','COL','ECU','FLK','GUF','GUY','PRY','PER','SUR','URY','VEN']\n",
    "Africa=['DZA','AGO','BEN','BWA','BFA','BDI','CMR','CPV','CAF','TCD','COM','COG','COD','CIV','DJI','EGY','GNQ','ERI','ETH',\n",
    "        'GAB','GMB','GHA','GIN','GNB','KEN','LSO','LBR','LBY','MDG','MWI','MLI','MRT','MUS','MYT','MAR','MOZ','NAM','NER',\n",
    "        'NGA','REU','RWA','SHN','STP','SEN','SYC','SLE','SOM','ZAF','SSD','SDN','SWZ','TZA','TGO','TUN','UGA','ESH','ZMB',\n",
    "        'ZWE']\n",
    "\n",
    "for i in df['country']:\n",
    "    if i in Europe:\n",
    "        df['country'].replace({i:'Europe'},inplace=True)\n",
    "    elif i in Antartica:\n",
    "        df['country'].replace({i:'Antartica'},inplace=True)\n",
    "    elif i in Asia:\n",
    "        df['country'].replace({i:'Asia'},inplace=True)\n",
    "    elif i in NA:\n",
    "        df['country'].replace({i:'North_America'},inplace=True)\n",
    "    elif i in SA:\n",
    "        df['country'].replace({i:'South_America '},inplace=True)\n",
    "    elif i in Aus:\n",
    "        df['country'].replace({i:'Australia'},inplace=True)\n",
    "    elif i in Africa:\n",
    "        df['country'].replace({i:'Africa'},inplace=True)\n",
    "        "
   ]
  },
  {
   "cell_type": "code",
   "execution_count": 18,
   "id": "a7ba449d",
   "metadata": {},
   "outputs": [
    {
     "data": {
      "text/plain": [
       "0    0.0\n",
       "dtype: float64"
      ]
     },
     "execution_count": 18,
     "metadata": {},
     "output_type": "execute_result"
    }
   ],
   "source": [
    "#checking for country significance to our Target Variable\n",
    "observed_value=pd.crosstab(df['country'],df['is_canceled'])\n",
    "stats,pvalue,dof,expected_value=st.chi2_contingency(observed_value)\n",
    "round(pd.Series(pvalue),2)\n",
    "\n",
    "#It is significant"
   ]
  },
  {
   "cell_type": "code",
   "execution_count": 19,
   "id": "0e8ae5dc",
   "metadata": {},
   "outputs": [
    {
     "data": {
      "text/plain": [
       "Europe            0.884871\n",
       "Asia              0.041805\n",
       "South_America     0.028034\n",
       "North_America     0.023264\n",
       "Africa            0.011741\n",
       "Australia         0.005125\n",
       "Unknown           0.005125\n",
       "Antartica         0.000034\n",
       "Name: country, dtype: float64"
      ]
     },
     "execution_count": 19,
     "metadata": {},
     "output_type": "execute_result"
    }
   ],
   "source": [
    "df['country'].value_counts(normalize=True)"
   ]
  },
  {
   "cell_type": "code",
   "execution_count": 20,
   "id": "bdf82010",
   "metadata": {},
   "outputs": [],
   "source": [
    "#Frequency Encoding on Country\n",
    "df['country'].replace({'Europe':0,'Asia':1,'South_America ':1,'North_America':1,'Africa':1,'Unknown':2,'Australia':2,'Antartica':2},inplace=True)"
   ]
  },
  {
   "cell_type": "code",
   "execution_count": 21,
   "id": "4a1cb73c",
   "metadata": {},
   "outputs": [
    {
     "data": {
      "text/plain": [
       "0    0.884871\n",
       "1    0.104844\n",
       "2    0.010285\n",
       "Name: country, dtype: float64"
      ]
     },
     "execution_count": 21,
     "metadata": {},
     "output_type": "execute_result"
    }
   ],
   "source": [
    "df['country'].value_counts(normalize=True)"
   ]
  },
  {
   "cell_type": "code",
   "execution_count": 22,
   "id": "bb01b43d",
   "metadata": {},
   "outputs": [
    {
     "name": "stdout",
     "output_type": "stream",
     "text": [
      "meal 5\n",
      "market_segment 7\n",
      "distribution_channel 4\n",
      "reserved_room_type 9\n",
      "assigned_room_type 11\n",
      "deposit_type 3\n",
      "agent 334\n",
      "customer_type 4\n"
     ]
    }
   ],
   "source": [
    "for i in df.select_dtypes('object'):\n",
    "    print(i,df[i].nunique())"
   ]
  },
  {
   "cell_type": "raw",
   "id": "10f70ac8",
   "metadata": {},
   "source": [
    "for Meal\n",
    "we had use get dummies"
   ]
  },
  {
   "cell_type": "code",
   "execution_count": 23,
   "id": "7bf4930f",
   "metadata": {},
   "outputs": [],
   "source": [
    "dummy1=pd.get_dummies(df['meal'],drop_first=True)\n",
    "df=pd.concat([df,dummy1],axis=1)\n",
    "df.drop('meal',axis='columns',inplace=True)"
   ]
  },
  {
   "cell_type": "raw",
   "id": "0b25ddd4",
   "metadata": {},
   "source": [
    "For Market segment we are using Frequency Encoding\n",
    "Online TA        0.591057\n",
    "Offline TA/TO    0.158837\n",
    "Direct           0.135046\n",
    "Groups           0.056424\n",
    "Corporate        0.048111\n",
    "Complementary    0.007934\n",
    "Aviation         0.002591"
   ]
  },
  {
   "cell_type": "code",
   "execution_count": 24,
   "id": "719cc728",
   "metadata": {},
   "outputs": [],
   "source": [
    "df['market_segment'].value_counts(normalize=True)\n",
    "df['market_segment'].replace({\"Online TA\":0,'Offline TA/TO':1,'Direct':1,'Groups':2,'Corporate':2,'Complementary':3,'Aviation':3},inplace=True)"
   ]
  },
  {
   "cell_type": "code",
   "execution_count": 25,
   "id": "4c9679b7",
   "metadata": {},
   "outputs": [
    {
     "name": "stdout",
     "output_type": "stream",
     "text": [
      "distribution_channel 4\n",
      "reserved_room_type 9\n",
      "assigned_room_type 11\n",
      "deposit_type 3\n",
      "agent 334\n",
      "customer_type 4\n"
     ]
    }
   ],
   "source": [
    "for i in df.select_dtypes('object'):\n",
    "    print(i,df[i].nunique())"
   ]
  },
  {
   "cell_type": "raw",
   "id": "54bcf01d",
   "metadata": {},
   "source": [
    "#For Distribution Channel we are using \n",
    "#Get dummies"
   ]
  },
  {
   "cell_type": "code",
   "execution_count": 26,
   "id": "a4462bfe",
   "metadata": {},
   "outputs": [],
   "source": [
    "dummy2=pd.get_dummies(df['distribution_channel'],drop_first=True)\n",
    "df=pd.concat([df,dummy2],axis=1)\n",
    "df.drop('distribution_channel',axis='columns',inplace=True)"
   ]
  },
  {
   "cell_type": "raw",
   "id": "f100ca7c",
   "metadata": {},
   "source": [
    "#For Deposite TYpe we are using frequency encoding\n",
    "No Deposit    0.986872\n",
    "Non Refund    0.011902\n",
    "Refundable    0.001227\n",
    "df['deposit_type'].value_counts(normalize=True)"
   ]
  },
  {
   "cell_type": "code",
   "execution_count": 27,
   "id": "1bd9e90a",
   "metadata": {},
   "outputs": [],
   "source": [
    "df['deposit_type'].replace({\"No Deposit\":0,'Non Refund':1,'Refundable':1},inplace=True)"
   ]
  },
  {
   "cell_type": "code",
   "execution_count": 28,
   "id": "7fad125f",
   "metadata": {},
   "outputs": [
    {
     "name": "stdout",
     "output_type": "stream",
     "text": [
      "reserved_room_type 9\n",
      "assigned_room_type 11\n",
      "agent 334\n",
      "customer_type 4\n"
     ]
    }
   ],
   "source": [
    "for i in df.select_dtypes('object'):\n",
    "    print(i,df[i].nunique())"
   ]
  },
  {
   "cell_type": "raw",
   "id": "6ee30ab5",
   "metadata": {},
   "source": [
    "# I AM Droping Agent Id \n",
    "acoording to Our problem statement \n",
    "I think it is not relevant\n"
   ]
  },
  {
   "cell_type": "code",
   "execution_count": 29,
   "id": "33db9334",
   "metadata": {},
   "outputs": [],
   "source": [
    "df.drop('agent',axis='columns',inplace=True)"
   ]
  },
  {
   "cell_type": "code",
   "execution_count": 30,
   "id": "87871464",
   "metadata": {},
   "outputs": [
    {
     "name": "stdout",
     "output_type": "stream",
     "text": [
      "reserved_room_type 9\n",
      "assigned_room_type 11\n",
      "customer_type 4\n"
     ]
    }
   ],
   "source": [
    "for i in df.select_dtypes('object'):\n",
    "    print(i,df[i].nunique())"
   ]
  },
  {
   "cell_type": "code",
   "execution_count": 31,
   "id": "ab82b1a8",
   "metadata": {},
   "outputs": [],
   "source": [
    "# Feature Extracting\n",
    "def family(data):\n",
    "    if ((data['adults'] > 0) & (data['children'] > 0)):\n",
    "        val = 1\n",
    "    elif ((data['adults'] > 0) & (data['babies'] > 0)):\n",
    "        val = 1\n",
    "    else:\n",
    "        val = 0\n",
    "    return val\n",
    "df['new_is_family'] = df.apply(family, axis=1)\n",
    "df.drop([\"adults\",'children','babies'],axis='columns',inplace=True)"
   ]
  },
  {
   "cell_type": "code",
   "execution_count": 32,
   "id": "77677538",
   "metadata": {},
   "outputs": [
    {
     "data": {
      "text/plain": [
       "(87215, 26)"
      ]
     },
     "execution_count": 32,
     "metadata": {},
     "output_type": "execute_result"
    }
   ],
   "source": [
    "df.shape"
   ]
  },
  {
   "cell_type": "raw",
   "id": "87e25b09",
   "metadata": {},
   "source": [
    "#For remaning Categorical Variable i am going with\n",
    "#Using Label Encoder\n",
    "reserved_room_type 9\n",
    "assigned_room_type 11\n",
    "customer_type 4\n",
    "\n"
   ]
  },
  {
   "cell_type": "code",
   "execution_count": 33,
   "id": "7f8542fb",
   "metadata": {},
   "outputs": [],
   "source": [
    "from sklearn.preprocessing import LabelEncoder\n",
    "ll=LabelEncoder()\n",
    "df['reserved_room_type']=ll.fit_transform(df[['reserved_room_type']])\n",
    "df['assigned_room_type']=ll.fit_transform(df[['assigned_room_type']])\n",
    "df['customer_type']=ll.fit_transform(df[['customer_type']])"
   ]
  },
  {
   "cell_type": "code",
   "execution_count": 38,
   "id": "f24302e2",
   "metadata": {},
   "outputs": [],
   "source": [
    "new_df=df"
   ]
  },
  {
   "cell_type": "markdown",
   "id": "df37c28f",
   "metadata": {},
   "source": [
    "# Model Building LOGISTIC REGRESSION\n"
   ]
  },
  {
   "cell_type": "code",
   "execution_count": 39,
   "id": "a409d2ef",
   "metadata": {},
   "outputs": [],
   "source": [
    "x=new_df.drop('is_canceled',axis='columns')\n",
    "y=new_df['is_canceled']\n",
    "from sklearn.model_selection import train_test_split\n",
    "x_train,x_test,y_train,y_test=train_test_split(x,y,test_size=0.25,random_state=10)"
   ]
  },
  {
   "cell_type": "code",
   "execution_count": 40,
   "id": "fdd26739",
   "metadata": {},
   "outputs": [
    {
     "name": "stdout",
     "output_type": "stream",
     "text": [
      "Train~results\n",
      "[[44000  3346]\n",
      " [11745  6320]]\n",
      "              precision    recall  f1-score   support\n",
      "\n",
      "           0       0.79      0.93      0.85     47346\n",
      "           1       0.65      0.35      0.46     18065\n",
      "\n",
      "    accuracy                           0.77     65411\n",
      "   macro avg       0.72      0.64      0.65     65411\n",
      "weighted avg       0.75      0.77      0.74     65411\n",
      "\n",
      "Training accuracy 0.7693\n",
      "Testing accuracy 0.7697\n",
      "\n",
      "\n",
      "Test~results\n",
      "\n",
      "[[14698  1168]\n",
      " [ 3854  2084]]\n",
      "              precision    recall  f1-score   support\n",
      "\n",
      "           0       0.79      0.93      0.85     15866\n",
      "           1       0.64      0.35      0.45      5938\n",
      "\n",
      "    accuracy                           0.77     21804\n",
      "   macro avg       0.72      0.64      0.65     21804\n",
      "weighted avg       0.75      0.77      0.75     21804\n",
      "\n",
      "Plot roc curve <sklearn.metrics._plot.roc_curve.RocCurveDisplay object at 0x000001F1F0AC5730>\n"
     ]
    },
    {
     "data": {
      "image/png": "[encoded data removed]",
      "text/plain": [
       "<Figure size 432x288 with 1 Axes>"
      ]
     },
     "metadata": {
      "needs_background": "light"
     },
     "output_type": "display_data"
    }
   ],
   "source": [
    "def function(x):\n",
    "    model=x.fit(x_train, y_train)\n",
    "    y_train_pred = x.predict(x_train)\n",
    "    \n",
    "\n",
    "    print('Train~results')\n",
    "    print(confusion_matrix(y_train, y_train_pred))\n",
    "    print(classification_report(y_train, y_train_pred))\n",
    "\n",
    "    y_test_pred = x.predict(x_test)\n",
    "    \n",
    "    \n",
    "    \n",
    "    print('Training accuracy {:.4f}'.format(x.score(x_train,y_train)))\n",
    "    print('Testing accuracy {:.4f}'.format(x.score(x_test,y_test)))\n",
    "    print('\\n')\n",
    "    print('Test~results')\n",
    "    print()\n",
    "    print(metrics.confusion_matrix(y_test, y_test_pred))\n",
    "    print(metrics.classification_report(y_test, y_test_pred))\n",
    "    \n",
    "    print(\"Plot roc curve\",metrics.plot_roc_curve(model,x_train,y_train))\n",
    "\n",
    "function(LogisticRegression())"
   ]
  },
  {
   "cell_type": "code",
   "execution_count": 41,
   "id": "5189dc0e",
   "metadata": {},
   "outputs": [
    {
     "name": "stdout",
     "output_type": "stream",
     "text": [
      "Best: 0.957667 using {'C': 0.01, 'penalty': 'l2', 'solver': 'newton-cg'}\n",
      "0.948667 (0.018209) with: {'C': 100, 'penalty': 'l2', 'solver': 'newton-cg'}\n",
      "0.945000 (0.017464) with: {'C': 100, 'penalty': 'l2', 'solver': 'lbfgs'}\n",
      "0.948333 (0.017143) with: {'C': 100, 'penalty': 'l2', 'solver': 'liblinear'}\n",
      "0.950000 (0.018974) with: {'C': 10, 'penalty': 'l2', 'solver': 'newton-cg'}\n",
      "0.947333 (0.017308) with: {'C': 10, 'penalty': 'l2', 'solver': 'lbfgs'}\n",
      "0.949000 (0.017578) with: {'C': 10, 'penalty': 'l2', 'solver': 'liblinear'}\n",
      "0.950667 (0.018962) with: {'C': 1.0, 'penalty': 'l2', 'solver': 'newton-cg'}\n",
      "0.951667 (0.018634) with: {'C': 1.0, 'penalty': 'l2', 'solver': 'lbfgs'}\n",
      "0.949333 (0.017499) with: {'C': 1.0, 'penalty': 'l2', 'solver': 'liblinear'}\n",
      "0.953000 (0.019175) with: {'C': 0.1, 'penalty': 'l2', 'solver': 'newton-cg'}\n",
      "0.952667 (0.018607) with: {'C': 0.1, 'penalty': 'l2', 'solver': 'lbfgs'}\n",
      "0.951000 (0.017195) with: {'C': 0.1, 'penalty': 'l2', 'solver': 'liblinear'}\n",
      "0.957667 (0.018382) with: {'C': 0.01, 'penalty': 'l2', 'solver': 'newton-cg'}\n",
      "0.957667 (0.018382) with: {'C': 0.01, 'penalty': 'l2', 'solver': 'lbfgs'}\n",
      "0.957333 (0.014817) with: {'C': 0.01, 'penalty': 'l2', 'solver': 'liblinear'}\n"
     ]
    }
   ],
   "source": [
    "# example of grid searching key hyperparametres for logistic regression\n",
    "from sklearn.datasets import make_blobs\n",
    "from sklearn.model_selection import RepeatedStratifiedKFold\n",
    "from sklearn.model_selection import GridSearchCV\n",
    "from sklearn.linear_model import LogisticRegression\n",
    "\n",
    "x, y = make_blobs(n_samples=1000, centers=2, n_features=100, cluster_std=20)\n",
    "\n",
    "model = LogisticRegression()\n",
    "solvers = ['newton-cg', 'lbfgs', 'liblinear']\n",
    "penalty = ['l2']\n",
    "c_values = [100, 10, 1.0, 0.1, 0.01]\n",
    "# define grid search\n",
    "grid = dict(solver=solvers,penalty=penalty,C=c_values)\n",
    "cv = RepeatedStratifiedKFold(n_splits=10, n_repeats=3, random_state=1)\n",
    "grid_search = GridSearchCV(estimator=model, param_grid=grid, n_jobs=-1, cv=cv, scoring='accuracy',error_score=0)\n",
    "grid_result = grid_search.fit(x, y)\n",
    "\n",
    "print(\"Best: %f using %s\" % (grid_result.best_score_, grid_result.best_params_))\n",
    "means = grid_result.cv_results_['mean_test_score']\n",
    "stds = grid_result.cv_results_['std_test_score']\n",
    "params = grid_result.cv_results_['params']\n",
    "for mean, stdev, param in zip(means, stds, params):\n",
    "    print(\"%f (%f) with: %r\" % (mean, stdev, param))"
   ]
  },
  {
   "cell_type": "code",
   "execution_count": 42,
   "id": "58797be8",
   "metadata": {},
   "outputs": [
    {
     "name": "stdout",
     "output_type": "stream",
     "text": [
      "Warning: Maximum number of iterations has been exceeded.\n",
      "         Current function value: 0.473577\n",
      "         Iterations: 35\n",
      "         Function evaluations: 40\n",
      "         Gradient evaluations: 40\n"
     ]
    },
    {
     "name": "stderr",
     "output_type": "stream",
     "text": [
      "F:\\jupyter\\lib\\site-packages\\statsmodels\\base\\model.py:566: ConvergenceWarning: Maximum Likelihood optimization failed to converge. Check mle_retvals\n",
      "  warnings.warn(\"Maximum Likelihood optimization failed to \"\n"
     ]
    },
    {
     "data": {
      "text/html": [
       "<table class=\"simpletable\">\n",
       "<caption>Logit Regression Results</caption>\n",
       "<tr>\n",
       "  <th>Dep. Variable:</th>      <td>is_canceled</td>   <th>  No. Observations:  </th>  <td> 65411</td> \n",
       "</tr>\n",
       "<tr>\n",
       "  <th>Model:</th>                 <td>Logit</td>      <th>  Df Residuals:      </th>  <td> 65385</td> \n",
       "</tr>\n",
       "<tr>\n",
       "  <th>Method:</th>                 <td>MLE</td>       <th>  Df Model:          </th>  <td>    25</td> \n",
       "</tr>\n",
       "<tr>\n",
       "  <th>Date:</th>            <td>Thu, 16 Dec 2021</td> <th>  Pseudo R-squ.:     </th>  <td>0.1964</td> \n",
       "</tr>\n",
       "<tr>\n",
       "  <th>Time:</th>                <td>15:36:11</td>     <th>  Log-Likelihood:    </th> <td> -30977.</td>\n",
       "</tr>\n",
       "<tr>\n",
       "  <th>converged:</th>             <td>False</td>      <th>  LL-Null:           </th> <td> -38547.</td>\n",
       "</tr>\n",
       "<tr>\n",
       "  <th>Covariance Type:</th>     <td>nonrobust</td>    <th>  LLR p-value:       </th>  <td> 0.000</td> \n",
       "</tr>\n",
       "</table>\n",
       "<table class=\"simpletable\">\n",
       "<tr>\n",
       "                 <td></td>                   <th>coef</th>     <th>std err</th>      <th>z</th>      <th>P>|z|</th>  <th>[0.025</th>    <th>0.975]</th>  \n",
       "</tr>\n",
       "<tr>\n",
       "  <th>const</th>                          <td>   -1.0397</td> <td>    0.094</td> <td>  -11.090</td> <td> 0.000</td> <td>   -1.223</td> <td>   -0.856</td>\n",
       "</tr>\n",
       "<tr>\n",
       "  <th>hotel</th>                          <td>    0.2014</td> <td>    0.024</td> <td>    8.304</td> <td> 0.000</td> <td>    0.154</td> <td>    0.249</td>\n",
       "</tr>\n",
       "<tr>\n",
       "  <th>lead_time</th>                      <td>    0.0045</td> <td>    0.000</td> <td>   36.234</td> <td> 0.000</td> <td>    0.004</td> <td>    0.005</td>\n",
       "</tr>\n",
       "<tr>\n",
       "  <th>stays_in_weekend_nights</th>        <td>    0.0531</td> <td>    0.011</td> <td>    4.638</td> <td> 0.000</td> <td>    0.031</td> <td>    0.076</td>\n",
       "</tr>\n",
       "<tr>\n",
       "  <th>stays_in_week_nights</th>           <td>    0.0271</td> <td>    0.006</td> <td>    4.544</td> <td> 0.000</td> <td>    0.015</td> <td>    0.039</td>\n",
       "</tr>\n",
       "<tr>\n",
       "  <th>country</th>                        <td>    0.1232</td> <td>    0.027</td> <td>    4.574</td> <td> 0.000</td> <td>    0.070</td> <td>    0.176</td>\n",
       "</tr>\n",
       "<tr>\n",
       "  <th>market_segment</th>                 <td>   -0.8479</td> <td>    0.025</td> <td>  -33.753</td> <td> 0.000</td> <td>   -0.897</td> <td>   -0.799</td>\n",
       "</tr>\n",
       "<tr>\n",
       "  <th>is_repeated_guest</th>              <td>   -0.3868</td> <td>    0.102</td> <td>   -3.785</td> <td> 0.000</td> <td>   -0.587</td> <td>   -0.187</td>\n",
       "</tr>\n",
       "<tr>\n",
       "  <th>previous_cancellations</th>         <td>    2.2618</td> <td>    0.080</td> <td>   28.409</td> <td> 0.000</td> <td>    2.106</td> <td>    2.418</td>\n",
       "</tr>\n",
       "<tr>\n",
       "  <th>previous_bookings_not_canceled</th> <td>   -0.2557</td> <td>    0.020</td> <td>  -12.628</td> <td> 0.000</td> <td>   -0.295</td> <td>   -0.216</td>\n",
       "</tr>\n",
       "<tr>\n",
       "  <th>reserved_room_type</th>             <td>    0.3933</td> <td>    0.016</td> <td>   25.015</td> <td> 0.000</td> <td>    0.362</td> <td>    0.424</td>\n",
       "</tr>\n",
       "<tr>\n",
       "  <th>assigned_room_type</th>             <td>   -0.4307</td> <td>    0.015</td> <td>  -28.332</td> <td> 0.000</td> <td>   -0.461</td> <td>   -0.401</td>\n",
       "</tr>\n",
       "<tr>\n",
       "  <th>booking_changes</th>                <td>   -0.3268</td> <td>    0.018</td> <td>  -17.734</td> <td> 0.000</td> <td>   -0.363</td> <td>   -0.291</td>\n",
       "</tr>\n",
       "<tr>\n",
       "  <th>deposit_type</th>                   <td>    2.6477</td> <td>    0.100</td> <td>   26.508</td> <td> 0.000</td> <td>    2.452</td> <td>    2.843</td>\n",
       "</tr>\n",
       "<tr>\n",
       "  <th>customer_type</th>                  <td>    0.2068</td> <td>    0.021</td> <td>    9.915</td> <td> 0.000</td> <td>    0.166</td> <td>    0.248</td>\n",
       "</tr>\n",
       "<tr>\n",
       "  <th>adr</th>                            <td>    0.0063</td> <td>    0.000</td> <td>   25.316</td> <td> 0.000</td> <td>    0.006</td> <td>    0.007</td>\n",
       "</tr>\n",
       "<tr>\n",
       "  <th>required_car_parking_spaces</th>    <td>   -4.2729</td> <td>    0.189</td> <td>  -22.613</td> <td> 0.000</td> <td>   -4.643</td> <td>   -3.903</td>\n",
       "</tr>\n",
       "<tr>\n",
       "  <th>total_of_special_requests</th>      <td>   -0.6026</td> <td>    0.014</td> <td>  -43.794</td> <td> 0.000</td> <td>   -0.630</td> <td>   -0.576</td>\n",
       "</tr>\n",
       "<tr>\n",
       "  <th>FB</th>                             <td>    0.0386</td> <td>    0.169</td> <td>    0.228</td> <td> 0.820</td> <td>   -0.293</td> <td>    0.370</td>\n",
       "</tr>\n",
       "<tr>\n",
       "  <th>HB</th>                             <td>   -0.2805</td> <td>    0.036</td> <td>   -7.719</td> <td> 0.000</td> <td>   -0.352</td> <td>   -0.209</td>\n",
       "</tr>\n",
       "<tr>\n",
       "  <th>SC</th>                             <td>    0.2951</td> <td>    0.031</td> <td>    9.376</td> <td> 0.000</td> <td>    0.233</td> <td>    0.357</td>\n",
       "</tr>\n",
       "<tr>\n",
       "  <th>Undefined</th>                      <td>   -0.0467</td> <td>    0.158</td> <td>   -0.295</td> <td> 0.768</td> <td>   -0.357</td> <td>    0.264</td>\n",
       "</tr>\n",
       "<tr>\n",
       "  <th>Direct</th>                         <td>   -0.8709</td> <td>    0.070</td> <td>  -12.498</td> <td> 0.000</td> <td>   -1.008</td> <td>   -0.734</td>\n",
       "</tr>\n",
       "<tr>\n",
       "  <th>GDS</th>                            <td>   -0.2184</td> <td>    0.194</td> <td>   -1.127</td> <td> 0.260</td> <td>   -0.598</td> <td>    0.161</td>\n",
       "</tr>\n",
       "<tr>\n",
       "  <th>TA/TO</th>                          <td>   -0.6784</td> <td>    0.072</td> <td>   -9.434</td> <td> 0.000</td> <td>   -0.819</td> <td>   -0.537</td>\n",
       "</tr>\n",
       "<tr>\n",
       "  <th>new_is_family</th>                  <td>    0.3297</td> <td>    0.035</td> <td>    9.492</td> <td> 0.000</td> <td>    0.262</td> <td>    0.398</td>\n",
       "</tr>\n",
       "</table>"
      ],
      "text/plain": [
       "<class 'statsmodels.iolib.summary.Summary'>\n",
       "\"\"\"\n",
       "                           Logit Regression Results                           \n",
       "==============================================================================\n",
       "Dep. Variable:            is_canceled   No. Observations:                65411\n",
       "Model:                          Logit   Df Residuals:                    65385\n",
       "Method:                           MLE   Df Model:                           25\n",
       "Date:                Thu, 16 Dec 2021   Pseudo R-squ.:                  0.1964\n",
       "Time:                        15:36:11   Log-Likelihood:                -30977.\n",
       "converged:                      False   LL-Null:                       -38547.\n",
       "Covariance Type:            nonrobust   LLR p-value:                     0.000\n",
       "==================================================================================================\n",
       "                                     coef    std err          z      P>|z|      [0.025      0.975]\n",
       "--------------------------------------------------------------------------------------------------\n",
       "const                             -1.0397      0.094    -11.090      0.000      -1.223      -0.856\n",
       "hotel                              0.2014      0.024      8.304      0.000       0.154       0.249\n",
       "lead_time                          0.0045      0.000     36.234      0.000       0.004       0.005\n",
       "stays_in_weekend_nights            0.0531      0.011      4.638      0.000       0.031       0.076\n",
       "stays_in_week_nights               0.0271      0.006      4.544      0.000       0.015       0.039\n",
       "country                            0.1232      0.027      4.574      0.000       0.070       0.176\n",
       "market_segment                    -0.8479      0.025    -33.753      0.000      -0.897      -0.799\n",
       "is_repeated_guest                 -0.3868      0.102     -3.785      0.000      -0.587      -0.187\n",
       "previous_cancellations             2.2618      0.080     28.409      0.000       2.106       2.418\n",
       "previous_bookings_not_canceled    -0.2557      0.020    -12.628      0.000      -0.295      -0.216\n",
       "reserved_room_type                 0.3933      0.016     25.015      0.000       0.362       0.424\n",
       "assigned_room_type                -0.4307      0.015    -28.332      0.000      -0.461      -0.401\n",
       "booking_changes                   -0.3268      0.018    -17.734      0.000      -0.363      -0.291\n",
       "deposit_type                       2.6477      0.100     26.508      0.000       2.452       2.843\n",
       "customer_type                      0.2068      0.021      9.915      0.000       0.166       0.248\n",
       "adr                                0.0063      0.000     25.316      0.000       0.006       0.007\n",
       "required_car_parking_spaces       -4.2729      0.189    -22.613      0.000      -4.643      -3.903\n",
       "total_of_special_requests         -0.6026      0.014    -43.794      0.000      -0.630      -0.576\n",
       "FB                                 0.0386      0.169      0.228      0.820      -0.293       0.370\n",
       "HB                                -0.2805      0.036     -7.719      0.000      -0.352      -0.209\n",
       "SC                                 0.2951      0.031      9.376      0.000       0.233       0.357\n",
       "Undefined                         -0.0467      0.158     -0.295      0.768      -0.357       0.264\n",
       "Direct                            -0.8709      0.070    -12.498      0.000      -1.008      -0.734\n",
       "GDS                               -0.2184      0.194     -1.127      0.260      -0.598       0.161\n",
       "TA/TO                             -0.6784      0.072     -9.434      0.000      -0.819      -0.537\n",
       "new_is_family                      0.3297      0.035      9.492      0.000       0.262       0.398\n",
       "==================================================================================================\n",
       "\"\"\""
      ]
     },
     "execution_count": 42,
     "metadata": {},
     "output_type": "execute_result"
    }
   ],
   "source": [
    "import statsmodels.api as sm\n",
    "x=new_df.drop('is_canceled',axis='columns')\n",
    "y=new_df['is_canceled']\n",
    "X=sm.add_constant(x)\n",
    "from sklearn.model_selection import train_test_split\n",
    "X_train,X_test,Y_train,Y_test=train_test_split(X,y,test_size=0.25,random_state=10)\n",
    "\n",
    "model=sm.Logit(Y_train,X_train).fit(method='bfgs')\n",
    "model.summary()\n"
   ]
  },
  {
   "cell_type": "raw",
   "id": "b6a19d25",
   "metadata": {},
   "source": [
    "#Linearity Check"
   ]
  },
  {
   "cell_type": "code",
   "execution_count": 43,
   "id": "f97884b3",
   "metadata": {},
   "outputs": [
    {
     "data": {
      "text/plain": [
       "<seaborn.axisgrid.PairGrid at 0x1f1f18abe50>"
      ]
     },
     "execution_count": 43,
     "metadata": {},
     "output_type": "execute_result"
    },
    {
     "data": {
      "image/png": "[encoded data removed]",
      "text/plain": [
       "<Figure size 360x360 with 6 Axes>"
      ]
     },
     "metadata": {
      "needs_background": "light"
     },
     "output_type": "display_data"
    }
   ],
   "source": [
    "sns.pairplot(new_df[['adr','lead_time']])\n",
    "\n",
    "#Lot of over lapping is there it is an non linear Model"
   ]
  },
  {
   "cell_type": "code",
   "execution_count": 36,
   "id": "23de2616",
   "metadata": {},
   "outputs": [],
   "source": [
    "new_df.to_csv(\"model.csv\",header=True,index=False)"
   ]
  },
  {
   "cell_type": "markdown",
   "id": "3a33d898",
   "metadata": {},
   "source": []
  },
  {
   "cell_type": "code",
   "execution_count": null,
   "id": "4c44efa2",
   "metadata": {},
   "outputs": [],
   "source": []
  },
  {
   "cell_type": "code",
   "execution_count": null,
   "id": "e8722cd5",
   "metadata": {},
   "outputs": [],
   "source": []
  },
  {
   "cell_type": "code",
   "execution_count": null,
   "id": "84f2b3a0",
   "metadata": {},
   "outputs": [],
   "source": []
  },
  {
   "cell_type": "code",
   "execution_count": null,
   "id": "b7b35edd",
   "metadata": {},
   "outputs": [],
   "source": []
  },
  {
   "cell_type": "code",
   "execution_count": null,
   "id": "b62c87c7",
   "metadata": {},
   "outputs": [],
   "source": []
  },
  {
   "cell_type": "code",
   "execution_count": null,
   "id": "2f60ab2b",
   "metadata": {},
   "outputs": [],
   "source": []
  },
  {
   "cell_type": "code",
   "execution_count": null,
   "id": "a6705dab",
   "metadata": {},
   "outputs": [],
   "source": [
    "x=new_df.drop('is_canceled',axis='columns')\n",
    "y=new_df['is_canceled']\n",
    "from sklearn.model_selection import train_test_split\n",
    "x_train,x_test,y_train,y_test=train_test_split(x,y,test_size=0.25,random_state=10)"
   ]
  },
  {
   "cell_type": "code",
   "execution_count": null,
   "id": "ae1f501c",
   "metadata": {},
   "outputs": [],
   "source": [
    "import lightgbm as lgb\n",
    "model = lgb.LGBMClassifier(learning_rate=0.09,max_depth=-9,random_state=10)\n",
    "model.fit(x_train,y_train,eval_set=[(x_test,y_test),(x_train,y_train)],\n",
    "          verbose=20,eval_metric='roc_auc')"
   ]
  },
  {
   "cell_type": "code",
   "execution_count": null,
   "id": "c556eb4d",
   "metadata": {},
   "outputs": [],
   "source": [
    "lgb.plot_importance(model,figsize=(18,16))"
   ]
  },
  {
   "cell_type": "code",
   "execution_count": null,
   "id": "70372926",
   "metadata": {},
   "outputs": [],
   "source": []
  },
  {
   "cell_type": "code",
   "execution_count": 45,
   "id": "ea687184",
   "metadata": {},
   "outputs": [
    {
     "name": "stdout",
     "output_type": "stream",
     "text": [
      "Train~results\n",
      "[[47227   119]\n",
      " [  298 17767]]\n",
      "              precision    recall  f1-score   support\n",
      "\n",
      "           0       0.99      1.00      1.00     47346\n",
      "           1       0.99      0.98      0.99     18065\n",
      "\n",
      "    accuracy                           0.99     65411\n",
      "   macro avg       0.99      0.99      0.99     65411\n",
      "weighted avg       0.99      0.99      0.99     65411\n",
      "\n",
      "Training accuracy 0.9936\n",
      "Testing accuracy 0.8032\n",
      "\n",
      "\n",
      "Test~results\n",
      "\n",
      "[[14300  1566]\n",
      " [ 2724  3214]]\n",
      "              precision    recall  f1-score   support\n",
      "\n",
      "           0       0.84      0.90      0.87     15866\n",
      "           1       0.67      0.54      0.60      5938\n",
      "\n",
      "    accuracy                           0.80     21804\n",
      "   macro avg       0.76      0.72      0.73     21804\n",
      "weighted avg       0.79      0.80      0.80     21804\n",
      "\n"
     ]
    }
   ],
   "source": [
    "def function(x):\n",
    "    x.fit(x_train, y_train)\n",
    "    y_train_pred = x.predict(x_train)\n",
    "    \n",
    "\n",
    "    print('Train~results')\n",
    "    print(confusion_matrix(y_train, y_train_pred))\n",
    "    print(classification_report(y_train, y_train_pred))\n",
    "\n",
    "    y_test_pred = x.predict(x_test)\n",
    "    \n",
    "    \n",
    "    \n",
    "    print('Training accuracy {:.4f}'.format(x.score(x_train,y_train)))\n",
    "    print('Testing accuracy {:.4f}'.format(x.score(x_test,y_test)))\n",
    "    print('\\n')\n",
    "    print('Test~results')\n",
    "    print()\n",
    "    print(metrics.confusion_matrix(y_test, y_test_pred))\n",
    "    print(metrics.classification_report(y_test, y_test_pred))\n",
    "\n",
    "function(RandomForestClassifier())\n",
    "    "
   ]
  },
  {
   "cell_type": "code",
   "execution_count": 47,
   "id": "c8a9d733",
   "metadata": {},
   "outputs": [],
   "source": [
    "new_df.to_csv(\"final1.csv\",header=True,index=False)"
   ]
  },
  {
   "cell_type": "code",
   "execution_count": null,
   "id": "e9586a26",
   "metadata": {},
   "outputs": [],
   "source": []
  },
  {
   "cell_type": "code",
   "execution_count": null,
   "id": "102d39a4",
   "metadata": {},
   "outputs": [],
   "source": []
  },
  {
   "cell_type": "code",
   "execution_count": null,
   "id": "0fe4382c",
   "metadata": {},
   "outputs": [],
   "source": []
  },
  {
   "cell_type": "code",
   "execution_count": null,
   "id": "a2273c45",
   "metadata": {},
   "outputs": [],
   "source": []
  },
  {
   "cell_type": "code",
   "execution_count": null,
   "id": "fb8ddeb2",
   "metadata": {},
   "outputs": [],
   "source": []
  },
  {
   "cell_type": "code",
   "execution_count": null,
   "id": "4cc99526",
   "metadata": {},
   "outputs": [],
   "source": []
  },
  {
   "cell_type": "code",
   "execution_count": null,
   "id": "0d8048ac",
   "metadata": {},
   "outputs": [],
   "source": []
  },
  {
   "cell_type": "code",
   "execution_count": null,
   "id": "e7e13ff1",
   "metadata": {},
   "outputs": [],
   "source": []
  },
  {
   "cell_type": "code",
   "execution_count": null,
   "id": "8f3768e1",
   "metadata": {},
   "outputs": [],
   "source": []
  },
  {
   "cell_type": "code",
   "execution_count": null,
   "id": "45bd9014",
   "metadata": {},
   "outputs": [],
   "source": []
  },
  {
   "cell_type": "code",
   "execution_count": null,
   "id": "58220151",
   "metadata": {},
   "outputs": [],
   "source": []
  },
  {
   "cell_type": "code",
   "execution_count": null,
   "id": "adecf86e",
   "metadata": {},
   "outputs": [],
   "source": []
  },
  {
   "cell_type": "code",
   "execution_count": null,
   "id": "2ea82ef0",
   "metadata": {},
   "outputs": [],
   "source": []
  },
  {
   "cell_type": "code",
   "execution_count": null,
   "id": "6bfa21d3",
   "metadata": {},
   "outputs": [],
   "source": []
  },
  {
   "cell_type": "code",
   "execution_count": null,
   "id": "f9aee0ea",
   "metadata": {},
   "outputs": [],
   "source": []
  },
  {
   "cell_type": "code",
   "execution_count": null,
   "id": "10dea462",
   "metadata": {},
   "outputs": [],
   "source": []
  },
  {
   "cell_type": "code",
   "execution_count": null,
   "id": "2acbeeb4",
   "metadata": {},
   "outputs": [],
   "source": []
  }
 ],
 "metadata": {
  "kernelspec": {
   "display_name": "Python 3",
   "language": "python",
   "name": "python3"
  },
  "language_info": {
   "codemirror_mode": {
    "name": "ipython",
    "version": 3
   },
   "file_extension": ".py",
   "mimetype": "text/x-python",
   "name": "python",
   "nbconvert_exporter": "python",
   "pygments_lexer": "ipython3",
   "version": "3.8.8"
  }
 },
 "nbformat": 4,
 "nbformat_minor": 5
}
